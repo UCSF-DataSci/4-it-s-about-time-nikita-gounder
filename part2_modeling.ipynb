{
 "cells": [
  {
   "cell_type": "markdown",
   "metadata": {},
   "source": [
    "# Part 2: Time Series Modeling\n",
    "\n",
    "In this notebook, you will implement functions to extract features from time series data and build ARIMA models."
   ]
  },
  {
   "cell_type": "code",
   "execution_count": 1,
   "metadata": {},
   "outputs": [],
   "source": [
    "# Import required libraries\n",
    "import numpy as np\n",
    "import pandas as pd\n",
    "import matplotlib.pyplot as plt\n",
    "import seaborn as sns\n",
    "from statsmodels.tsa.arima.model import ARIMA\n",
    "from pathlib import Path\n",
    "import os\n",
    "\n",
    "# Set style for plots\n",
    "plt.style.use('seaborn-v0_8')\n",
    "%matplotlib inline"
   ]
  },
  {
   "cell_type": "markdown",
   "metadata": {},
   "source": [
    "## 1. Feature Extraction\n",
    "\n",
    "Implement the `extract_time_series_features` function to calculate rolling window features."
   ]
  },
  {
   "cell_type": "code",
   "execution_count": 2,
   "metadata": {},
   "outputs": [
    {
     "name": "stdout",
     "output_type": "stream",
     "text": [
      "Features extracted.\n"
     ]
    }
   ],
   "source": [
    "def extract_time_series_features(data, window_size=60):\n",
    "    \"\"\"Extract rolling window features from time series data.\n",
    "    \n",
    "    Parameters\n",
    "    ----------\n",
    "    data : pd.DataFrame\n",
    "        Preprocessed physiological data\n",
    "    window_size : int\n",
    "        Size of the rolling window in seconds\n",
    "        \n",
    "    Returns\n",
    "    -------\n",
    "    pd.DataFrame\n",
    "        DataFrame containing extracted features for each signal\n",
    "    \"\"\"\n",
    "    # Your code here\n",
    "    # 1. Calculate rolling window statistics\n",
    "    # 2. Include mean, std, min, max, and autocorrelation\n",
    "    \n",
    "    def autocorr(x):\n",
    "        return x.autocorr(lag=1) if len(x) > 1 else np.nan\n",
    "\n",
    "    # Ensure timestamp is datetime and sorted\n",
    "    data['timestamp'] = pd.to_datetime(data['timestamp'])\n",
    "    data = data.sort_values('timestamp')\n",
    "\n",
    "    results = data[['timestamp', 'subject_id', 'session']].copy()\n",
    "    signals = ['heart_rate', 'eda', 'temperature']\n",
    "\n",
    "    for col in signals:\n",
    "        results[f'{col}_mean'] = data[col].rolling(window=window_size).mean()\n",
    "        results[f'{col}_sd'] = data[col].rolling(window=window_size).std()\n",
    "        results[f'{col}_min'] = data[col].rolling(window=window_size).min()\n",
    "        results[f'{col}_max'] = data[col].rolling(window=window_size).max()\n",
    "        results[f'{col}_autocor'] = data[col].rolling(window=window_size).apply(autocorr, raw=False)\n",
    "        \n",
    "    return results\n",
    "\n",
    "# Load and combine all data\n",
    "all_data = []\n",
    "for i in range(1, 11):\n",
    "    file_path = f'data/processed/S{i}_processed.csv'\n",
    "    if os.path.exists(file_path):\n",
    "        df = pd.read_csv(file_path)\n",
    "        df['subject_id'] = f'S{i}'  # Ensure subject_id is consistent\n",
    "        all_data.append(df)\n",
    "\n",
    "combined_data = pd.concat(all_data, ignore_index=True)\n",
    "\n",
    "features_df = extract_time_series_features(combined_data, window_size=60)\n",
    "print(\"Features extracted.\") #dam take so long"
   ]
  },
  {
   "cell_type": "markdown",
   "metadata": {},
   "source": [
    "## 2. ARIMA Modeling\n",
    "\n",
    "Implement the `build_arima_model` function to fit ARIMA models and generate diagnostic plots."
   ]
  },
  {
   "cell_type": "code",
   "execution_count": 6,
   "metadata": {},
   "outputs": [
    {
     "name": "stderr",
     "output_type": "stream",
     "text": [
      "/home/codespace/.local/lib/python3.12/site-packages/statsmodels/tsa/base/tsa_model.py:473: ValueWarning: An unsupported index was provided. As a result, forecasts cannot be generated. To use the model for forecasting, use one of the supported classes of index.\n",
      "  self._init_dates(dates, freq)\n",
      "/home/codespace/.local/lib/python3.12/site-packages/statsmodels/tsa/base/tsa_model.py:473: ValueWarning: An unsupported index was provided. As a result, forecasts cannot be generated. To use the model for forecasting, use one of the supported classes of index.\n",
      "  self._init_dates(dates, freq)\n",
      "/home/codespace/.local/lib/python3.12/site-packages/statsmodels/tsa/base/tsa_model.py:473: ValueWarning: An unsupported index was provided. As a result, forecasts cannot be generated. To use the model for forecasting, use one of the supported classes of index.\n",
      "  self._init_dates(dates, freq)\n",
      "/home/codespace/.local/lib/python3.12/site-packages/statsmodels/tsa/statespace/sarimax.py:966: UserWarning: Non-stationary starting autoregressive parameters found. Using zeros as starting parameters.\n",
      "  warn('Non-stationary starting autoregressive parameters'\n",
      "/home/codespace/.local/lib/python3.12/site-packages/statsmodels/tsa/statespace/sarimax.py:978: UserWarning: Non-invertible starting MA parameters found. Using zeros as starting parameters.\n",
      "  warn('Non-invertible starting MA parameters found.'\n"
     ]
    },
    {
     "data": {
      "text/plain": [
       "<statsmodels.tsa.arima.model.ARIMAResultsWrapper at 0x726b692b95b0>"
      ]
     },
     "execution_count": 6,
     "metadata": {},
     "output_type": "execute_result"
    }
   ],
   "source": [
    "test_series = features_df['heart_rate_mean'].dropna().iloc[:300]\n",
    "test_series.name = 'Test_heart_rate'\n",
    "\n",
    "build_arima_model(test_series)"
   ]
  },
  {
   "cell_type": "code",
   "execution_count": 4,
   "metadata": {},
   "outputs": [],
   "source": [
    "def build_arima_model(series, order=(1,1,1), output_dir='plots'):\n",
    "    \"\"\"Fit an ARIMA model to the time series and generate diagnostic plots.\n",
    "    \n",
    "    Parameters\n",
    "    ----------\n",
    "    series : pd.Series\n",
    "        Time series data to model\n",
    "    order : tuple\n",
    "        (p,d,q) order of the ARIMA model\n",
    "    output_dir : str\n",
    "        Directory to save diagnostic plots\n",
    "        \n",
    "    Returns\n",
    "    -------\n",
    "    statsmodels.tsa.arima.model.ARIMAResults\n",
    "        Fitted ARIMA model\n",
    "    \"\"\"\n",
    "    # Create output directory if it doesn't exist\n",
    "    os.makedirs(output_dir, exist_ok=True)\n",
    "    \n",
    "    # Your code here\n",
    "    # 1. Fit ARIMA model\n",
    "    # 2. Generate diagnostic plots:\n",
    "    #    - Model fit plot\n",
    "    #    - Residuals plot\n",
    "    #    - Forecast plot\n",
    "    # 3. Save plots to output directory\n",
    "    \n",
    "    series = series.dropna()\n",
    "    name = series.name or \"time_series\"\n",
    "    \n",
    "    # Fit ARIMA \n",
    "    model = ARIMA(series, order=order)\n",
    "    model_fit = model.fit()\n",
    "    \n",
    "    # Plot: Actual vs. Fitted\n",
    "    plt.figure(figsize=(10, 4))\n",
    "    plt.plot(series, label='Observed')\n",
    "    plt.plot(model_fit.fittedvalues, label='Fitted', alpha=0.7)\n",
    "    plt.title(f'{name} - ARIMA Fit')\n",
    "    plt.legend()\n",
    "    plt.tight_layout()\n",
    "    plt.savefig(os.path.join(output_dir, f'{name}_arima_fit.png'))\n",
    "    plt.close()\n",
    "\n",
    "    # Plot: Residuals\n",
    "    residuals = model_fit.resid\n",
    "    plt.figure(figsize=(10, 4))\n",
    "    plt.plot(residuals, label='Residuals')\n",
    "    plt.axhline(0, color='gray', linestyle='--')\n",
    "    plt.title(f'{name} - ARIMA Residuals')\n",
    "    plt.tight_layout()\n",
    "    plt.savefig(os.path.join(output_dir, f'{name}_arima_residuals.png'))\n",
    "    plt.close()\n",
    "\n",
    "    return model_fit\n",
    "\n",
    "#series = features_df['heart_rate_mean'].dropna()\n",
    "#series.name = 'S5_Midterm2_heart_rate' \n",
    "#model = build_arima_model(series)"
   ]
  }
 ],
 "metadata": {
  "kernelspec": {
   "display_name": "Python 3",
   "language": "python",
   "name": "python3"
  },
  "language_info": {
   "codemirror_mode": {
    "name": "ipython",
    "version": 3
   },
   "file_extension": ".py",
   "mimetype": "text/x-python",
   "name": "python",
   "nbconvert_exporter": "python",
   "pygments_lexer": "ipython3",
   "version": "3.12.1"
  }
 },
 "nbformat": 4,
 "nbformat_minor": 4
}
